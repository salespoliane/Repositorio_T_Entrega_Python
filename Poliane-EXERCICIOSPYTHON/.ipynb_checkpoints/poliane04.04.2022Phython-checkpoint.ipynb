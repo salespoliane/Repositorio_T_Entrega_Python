{
 "cells": [
  {
   "cell_type": "code",
   "execution_count": 15,
   "id": "d83043b0",
   "metadata": {},
   "outputs": [
    {
     "data": {
      "text/plain": [
       "610"
      ]
     },
     "execution_count": 15,
     "metadata": {},
     "output_type": "execute_result"
    }
   ],
   "source": [
    "10+20*30"
   ]
  },
  {
   "cell_type": "code",
   "execution_count": 26,
   "id": "4af56982",
   "metadata": {},
   "outputs": [
    {
     "data": {
      "text/plain": [
       "0.5333333333333333"
      ]
     },
     "execution_count": 26,
     "metadata": {},
     "output_type": "execute_result"
    }
   ],
   "source": [
    "(4**2/30)"
   ]
  },
  {
   "cell_type": "code",
   "execution_count": 17,
   "id": "486d9e83",
   "metadata": {},
   "outputs": [
    {
     "data": {
      "text/plain": [
       "575"
      ]
     },
     "execution_count": 17,
     "metadata": {},
     "output_type": "execute_result"
    }
   ],
   "source": [
    "(94+2)*6-1"
   ]
  },
  {
   "cell_type": "code",
   "execution_count": 18,
   "id": "82658062",
   "metadata": {},
   "outputs": [
    {
     "data": {
      "text/plain": [
       "107"
      ]
     },
     "execution_count": 18,
     "metadata": {},
     "output_type": "execute_result"
    }
   ],
   "source": [
    "((10+8)*(10-4))-1"
   ]
  },
  {
   "cell_type": "code",
   "execution_count": 20,
   "id": "c9477948",
   "metadata": {},
   "outputs": [
    {
     "data": {
      "text/plain": [
       "2980947985820.5586"
      ]
     },
     "execution_count": 20,
     "metadata": {},
     "output_type": "execute_result"
    }
   ],
   "source": [
    "((1500+(100-9/10))*9)**3"
   ]
  },
  {
   "cell_type": "code",
   "execution_count": 21,
   "id": "708210fb",
   "metadata": {},
   "outputs": [
    {
     "data": {
      "text/plain": [
       "81.0"
      ]
     },
     "execution_count": 21,
     "metadata": {},
     "output_type": "execute_result"
    }
   ],
   "source": [
    "10%3*10**2+1-10*4/2"
   ]
  },
  {
   "cell_type": "code",
   "execution_count": 28,
   "id": "2d88e656",
   "metadata": {},
   "outputs": [
    {
     "name": "stdout",
     "output_type": "stream",
     "text": [
      "POLIANE SALES GUERREIRO\n"
     ]
    }
   ],
   "source": [
    "#Faça um programa que exiba seu nome na tela\n",
    "nome=\"POLIANE SALES GUERREIRO\"\n",
    "print (nome)"
   ]
  },
  {
   "cell_type": "code",
   "execution_count": 29,
   "id": "a1aaceb8",
   "metadata": {},
   "outputs": [
    {
     "name": "stdout",
     "output_type": "stream",
     "text": [
      "90\n"
     ]
    }
   ],
   "source": [
    "#Escreva um programa que exiba o resultado de 2a × 3b, onde a vale\n",
    "#3 e b vale 5\n",
    "a=3\n",
    "b=5\n",
    "resultado=(2*a)*(3*b)\n",
    "print(resultado)\n"
   ]
  },
  {
   "cell_type": "code",
   "execution_count": 30,
   "id": "03485377",
   "metadata": {},
   "outputs": [
    {
     "name": "stdout",
     "output_type": "stream",
     "text": [
      "9\n"
     ]
    }
   ],
   "source": [
    "#Modifique o primeiro programa abaixo, \n",
    "#de forma a calcular a soma de três variáveis\n",
    "\n",
    "c=2 #(1)\n",
    "a=4 #(2)\n",
    "b=3 #(3)\n",
    "print (c + a + b)"
   ]
  },
  {
   "cell_type": "code",
   "execution_count": 1,
   "id": "8ea65635",
   "metadata": {},
   "outputs": [
    {
     "name": "stdout",
     "output_type": "stream",
     "text": [
      "787.5\n"
     ]
    }
   ],
   "source": [
    "#Modifique o programa abaixo, de forma que ele calcule um\n",
    "#aumento de 15% para um salário de R$ 750\n",
    "\n",
    "salario = 750 #(1)\n",
    "aumento = 5 #(2)\n",
    "print(salario + (salario * aumento / 100)) #3"
   ]
  },
  {
   "cell_type": "code",
   "execution_count": 38,
   "id": "8cc4f37d",
   "metadata": {},
   "outputs": [
    {
     "name": "stdout",
     "output_type": "stream",
     "text": [
      "100\n"
     ]
    }
   ],
   "source": [
    "#Faça um programa em linguagem Python que converta metros para\n",
    "#centímetros\n",
    "\n",
    "metro = 1\n",
    "centimetro = 0\n",
    "centimetro = metro * 100\n",
    "\n",
    "print (centimetro)"
   ]
  },
  {
   "cell_type": "code",
   "execution_count": 47,
   "id": "e7788dc1",
   "metadata": {},
   "outputs": [
    {
     "name": "stdout",
     "output_type": "stream",
     "text": [
      "1\n",
      "2\n",
      "3\n",
      "4\n",
      "5\n",
      "6\n",
      "7\n",
      "8\n",
      "9\n",
      "10\n"
     ]
    }
   ],
   "source": [
    "#Faça um programa em Python que leia um valor inteiro e mostre a tabuada de 1\n",
    "#a 10 do valor lido\n",
    "\n",
    "valorInteiro = 10\n",
    "tabuada = 1 #a 10\n",
    "\n",
    "for i in range(valorInteiro):\n",
    "    print (tabuada + i)\n",
    "\n",
    "\n"
   ]
  },
  {
   "cell_type": "code",
   "execution_count": null,
   "id": "1bbb268d",
   "metadata": {},
   "outputs": [],
   "source": [
    "#Faça um programa em linguagem Python que receba duas notas e calcule a \n",
    "#média aritmética e mostre o resultado\n",
    "\n",
    "x = int(input(\"digite a primeira nota:\"))\n",
    "y = int(input(\"digite a segunda nota:\"))\n",
    "print((x+y) /2)\n"
   ]
  }
 ],
 "metadata": {
  "kernelspec": {
   "display_name": "Python 3 (ipykernel)",
   "language": "python",
   "name": "python3"
  },
  "language_info": {
   "codemirror_mode": {
    "name": "ipython",
    "version": 3
   },
   "file_extension": ".py",
   "mimetype": "text/x-python",
   "name": "python",
   "nbconvert_exporter": "python",
   "pygments_lexer": "ipython3",
   "version": "3.9.7"
  }
 },
 "nbformat": 4,
 "nbformat_minor": 5
}
